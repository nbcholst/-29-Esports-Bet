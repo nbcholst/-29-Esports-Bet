{
 "cells": [
  {
   "cell_type": "code",
   "execution_count": 43,
   "metadata": {
    "collapsed": true
   },
   "outputs": [],
   "source": [
    "from bs4 import BeautifulSoup\n",
    "from time import sleep\n",
    "import pandas as pd\n",
    "import numpy as np\n",
    "import psycopg2"
   ]
  },
  {
   "cell_type": "code",
   "execution_count": 44,
   "metadata": {
    "scrolled": true
   },
   "outputs": [
    {
     "name": "stdout",
     "output_type": "stream",
     "text": [
      "  MatchID Date TeamID Team Moneyline HDP Map1 Map2 Map3\n",
      "0       1    0      0    1         1   0    0    0    0\n",
      "1       1    0      0    1         1   0    0    0    0\n"
     ]
    }
   ],
   "source": [
    "todayScores = pd.DataFrame(columns=['MatchID','Date','TeamID','Team','Moneyline','HDP','Map1','Map2','Map3'])\n",
    "pdGame = pd.DataFrame([[1, 0, 0, 1, 1, 0, 0, 0, 0],\n",
    "                               [1, 0, 0, 1, 1, 0, 0, 0, 0]],\n",
    "                              columns=['MatchID','Date','TeamID','Team','Moneyline','HDP','Map1','Map2','Map3'])\n",
    "todayScores = todayScores.append(pdGame)\n",
    "print(todayScores)"
   ]
  },
  {
   "cell_type": "code",
   "execution_count": 68,
   "metadata": {},
   "outputs": [],
   "source": [
    "# connect to postgresql\n",
    "conn = psycopg2.connect(dbname=\"BetOnline\", user=\"Admin1\", password=\"1407athNBC!\", host = 'betonlinedb.cfitahvq3xgc.us-west-1.rds.amazonaws.com')\n",
    "cur = conn.cursor()"
   ]
  },
  {
   "cell_type": "code",
   "execution_count": 69,
   "metadata": {},
   "outputs": [
    {
     "name": "stdout",
     "output_type": "stream",
     "text": [
      "('08a082a5-1a8e-4a1e-a656-eb85814766da', 'Counter-Strike')\n",
      "('cf065a32-09c4-4aa7-b251-981a5b7e6175', 'Dota 2')\n",
      "('18dd9d3e-e0dc-4a10-9544-cb903c51ac1c', 'Overwatch')\n",
      "('219b50df-1984-4dab-be78-8041825f6fae', 'World of Tanks')\n",
      "('450abd12-185a-4cff-8547-8717d30247a7', 'Gwent')\n"
     ]
    }
   ],
   "source": [
    "# view table\n",
    "cur.execute('SELECT * FROM \"BetSport\"')\n",
    "row = cur.fetchone()\n",
    "while row is not None:\n",
    "            print(row)\n",
    "            row = cur.fetchone()"
   ]
  },
  {
   "cell_type": "code",
   "execution_count": 62,
   "metadata": {},
   "outputs": [
    {
     "name": "stdout",
     "output_type": "stream",
     "text": [
      "INSERT INTO \"BetSport\" (\"SportID\",\"SportName\") VALUES (1, 'test')\n"
     ]
    }
   ],
   "source": [
    "# add into table\n",
    "# create sql query\n",
    "query = 'INSERT INTO \"BetSport\" (\"SportID\",\"SportName\") VALUES '\n",
    "\n",
    "newDF = [1,\"test\"]\n",
    "\n",
    "#entry = pdGame.head(1).values.tolist()[0]\n",
    "#print(tuple(entry))\n",
    "\n",
    "print(query + str(tuple(newDF)))\n",
    "\n",
    "query2 = query + str(tuple(newDF))\n",
    "\n",
    "try:\n",
    "    cur.execute(query2)\n",
    "except:\n",
    "    pass\n",
    "conn.commit()"
   ]
  },
  {
   "cell_type": "code",
   "execution_count": 66,
   "metadata": {},
   "outputs": [
    {
     "name": "stdout",
     "output_type": "stream",
     "text": [
      "(1, 'test')\n",
      "   SportID SportName\n",
      "0        1      test\n"
     ]
    }
   ],
   "source": [
    "# view table\n",
    "cur.execute('SELECT * FROM \"BetSport\"')\n",
    "row = cur.fetchone()\n",
    "while row is not None:\n",
    "            print(row)\n",
    "            row = cur.fetchone()\n",
    "            \n",
    "df = pd.read_sql('SELECT * FROM \"BetSport\"', con=conn)\n",
    "print(df)"
   ]
  },
  {
   "cell_type": "code",
   "execution_count": 49,
   "metadata": {},
   "outputs": [],
   "source": [
    "# view table\n",
    "cur.execute('DELETE FROM \"BetSport\" where \"SportID\" = 1')\n",
    "conn.commit()"
   ]
  },
  {
   "cell_type": "code",
   "execution_count": 67,
   "metadata": {
    "collapsed": true
   },
   "outputs": [],
   "source": [
    "cur.close()\n",
    "conn.close()"
   ]
  },
  {
   "cell_type": "code",
   "execution_count": null,
   "metadata": {
    "collapsed": true
   },
   "outputs": [],
   "source": []
  }
 ],
 "metadata": {
  "kernelspec": {
   "display_name": "Python 3",
   "language": "python",
   "name": "python3"
  },
  "language_info": {
   "codemirror_mode": {
    "name": "ipython",
    "version": 3
   },
   "file_extension": ".py",
   "mimetype": "text/x-python",
   "name": "python",
   "nbconvert_exporter": "python",
   "pygments_lexer": "ipython3",
   "version": "3.6.3"
  }
 },
 "nbformat": 4,
 "nbformat_minor": 2
}
