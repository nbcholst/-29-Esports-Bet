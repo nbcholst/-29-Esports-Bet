{
 "cells": [
  {
   "cell_type": "code",
   "execution_count": 2,
   "metadata": {
    "collapsed": true
   },
   "outputs": [],
   "source": [
    "from selenium import webdriver\n",
    "from bs4 import BeautifulSoup\n",
    "from time import sleep\n",
    "import pandas as pd\n",
    "import numpy as np\n",
    "import psycopg2\n",
    "import uuid"
   ]
  },
  {
   "cell_type": "code",
   "execution_count": 3,
   "metadata": {
    "collapsed": true
   },
   "outputs": [],
   "source": [
    "driver = webdriver.PhantomJS(executable_path=r'C:\\phantomjs-2.1.1-windows\\bin\\phantomjs.exe')\n",
    "driver2 = webdriver.PhantomJS(executable_path=r'C:\\phantomjs-2.1.1-windows\\bin\\phantomjs.exe')"
   ]
  },
  {
   "cell_type": "code",
   "execution_count": 4,
   "metadata": {
    "collapsed": true
   },
   "outputs": [],
   "source": [
    "driver.get(\"https://esports-betonline.ultraplay.net/esports/today\")\n",
    "driver2.get(\"https://esports-betonline.ultraplay.net/esports/program/0\")\n",
    "\n",
    "sleep(5)\n",
    "html = driver.execute_script(\"return document.getElementsByTagName('html')[0].innerHTML\")\n",
    "html2 = driver2.execute_script(\"return document.getElementsByTagName('html')[0].innerHTML\")\n",
    "soup = BeautifulSoup(html, \"html.parser\")\n",
    "soup2 = BeautifulSoup(html2, \"html.parser\")\n"
   ]
  },
  {
   "cell_type": "code",
   "execution_count": 5,
   "metadata": {},
   "outputs": [],
   "source": [
    "# get soup\n",
    "#print(soup)"
   ]
  },
  {
   "cell_type": "code",
   "execution_count": 6,
   "metadata": {
    "scrolled": true
   },
   "outputs": [
    {
     "name": "stdout",
     "output_type": "stream",
     "text": [
      "Counter-Strike\n",
      "ECS Season 4\n",
      "MakeMy.Bet Cup\n",
      "LOOT.BET Cup 2\n",
      "CSGO.NET Cup\n",
      "LOOT.BET Nations Elite Esports Cup\n",
      "Dota 2\n",
      "MID.TV Dota2\n",
      "Overwatch\n",
      "Nexus Cup\n",
      "World of Tanks\n",
      "The Final Battle\n",
      "Gwent\n",
      "CHALLENGER 2\n"
     ]
    }
   ],
   "source": [
    "# get leagues\n",
    "\n",
    "sportList = soup.find_all('div',{'class': 'panel panel-default panel-sport hidden-lg ng-scope'})\n",
    "\n",
    "#print(sportList[0])\n",
    "\n",
    "for sport in sportList:\n",
    "    #print(sportList)\n",
    "    sportName = sport.find('div',{'class': 'row panel-heading border-none'}).text.strip()\n",
    "    \n",
    "    print(sportName)\n",
    "    \n",
    "    leagueList = sport.find_all('div', {'class': 'panel panel-default margin-bottom-none panel-league ng-scope'})\n",
    "    \n",
    "    for league in leagueList:\n",
    "        leagueName = league.find('div', {'class': 'col-xs-10 col-sm-11 text-left panel-heading match-detail-league-name'}) \n",
    "        if leagueName is not None:\n",
    "            print(leagueName.text.strip())"
   ]
  },
  {
   "cell_type": "code",
   "execution_count": 19,
   "metadata": {
    "collapsed": true
   },
   "outputs": [],
   "source": [
    "# connect to postgresql\n",
    "conn = psycopg2.connect(dbname=\"BetOnline\", user=\"Admin1\", password=\"1407athNBC!\", host = 'betonlinedb.cfitahvq3xgc.us-west-1.rds.amazonaws.com')\n",
    "cur = conn.cursor()"
   ]
  },
  {
   "cell_type": "code",
   "execution_count": 29,
   "metadata": {},
   "outputs": [
    {
     "name": "stdout",
     "output_type": "stream",
     "text": [
      "inputtingCounter-Strike\n",
      "query = INSERT INTO \"BetSport\" (\"SportID\",\"SportName\") VALUES (UUID('08a082a5-1a8e-4a1e-a656-eb85814766da'), 'Counter-Strike')\n",
      "inputtingDota 2\n",
      "query = INSERT INTO \"BetSport\" (\"SportID\",\"SportName\") VALUES (UUID('cf065a32-09c4-4aa7-b251-981a5b7e6175'), 'Dota 2')\n",
      "inputtingOverwatch\n",
      "query = INSERT INTO \"BetSport\" (\"SportID\",\"SportName\") VALUES (UUID('18dd9d3e-e0dc-4a10-9544-cb903c51ac1c'), 'Overwatch')\n",
      "inputtingWorld of Tanks\n",
      "query = INSERT INTO \"BetSport\" (\"SportID\",\"SportName\") VALUES (UUID('219b50df-1984-4dab-be78-8041825f6fae'), 'World of Tanks')\n",
      "inputtingGwent\n",
      "query = INSERT INTO \"BetSport\" (\"SportID\",\"SportName\") VALUES (UUID('450abd12-185a-4cff-8547-8717d30247a7'), 'Gwent')\n"
     ]
    }
   ],
   "source": [
    "todayOdds = pd.DataFrame(columns=['OddsID','GameID','TeamID','Moneyline','DatePulled','LookupID_O'])\n",
    "todatMatches = pd.DataFrame(columns=['MatchID','Sport','League','GameID','TeamA','TeamB','Date','LookupID_G'])\n",
    "todayTeams = pd.DataFrame(columns=['TeamID','TeamName','Sport','League','LookupID_T'])\n",
    "todayLeagues = pd.DataFrame(columns=['LeagueID','TeamName','Sport','League','LookupID_L'])\n",
    "todaySports = pd.DataFrame(columns=['SportID','SportName'])\n",
    "\n",
    "i = 0\n",
    "\n",
    "sportList = soup.find_all('div',{'class': 'panel panel-default panel-sport visible-lg ng-scope'})\n",
    "for sport in sportList:\n",
    "    sportName = sport.find('div',{'class': 'col-xs-6 ng-binding'}).text.strip()\n",
    "\n",
    "    # look up sport ID, otherwise add it\n",
    "    print('inputting'+sportName)\n",
    "    SportID = sportDBCheck(sportName, conn)\n",
    "    \n",
    "    leagueList = sport.find_all('div', {'class': 'panel panel-default margin-bottom-none panel-league ng-scope'})\n",
    "    for league in leagueList:\n",
    "        leagueName = league.find('div', {'class': 'col-xs-10 col-sm-11 text-left panel-heading match-detail-league-name'}).text.strip() \n",
    "             \n",
    "        gameList = league.find_all('div', {'class': 'panel-match-detail ng-scope'})\n",
    "        \n",
    "        for game in gameList:\n",
    "            teamA = game.find('div', {'class':'match-detail-teamA-row'})\n",
    "            teamB = game.find('div', {'class':'match-detail-teamB-row'})\n",
    "            \n",
    "            if teamA is not None:\n",
    "                teamName1 = teamA.find('div', {'class': 'match-detail-team-name'}).text.strip()\n",
    "                teamName2 = teamB.find('div', {'class': 'match-detail-team-name'}).text.strip()\n",
    "                Odds1 = teamA.find_all('div', {'class': 'col-xs-2 col-sm-1 event-link'})\n",
    "                Odds2 = teamB.find_all('div', {'class': 'col-xs-2 col-sm-1 event-link'})\n",
    "\n",
    "                if 'suspended' not in (game.get('class')):\n",
    "                    ML1 = Odds1[0].text.strip()\n",
    "                    ML2 = Odds2[0].text.strip()\n",
    "\n",
    "                # create dataframe to hold entry\n",
    "                pdOdds = pd.DataFrame([[0, 0, 0, ML1, 0, 0],[0, 0, 0, ML2, 0, 0]],\n",
    "                                      columns=['UUID_O','GameID','TeamID','Moneyline','DatePulled','LookupID_O'])\n",
    "                \n",
    "                pdGames = pd.DataFrame([[0, sportName, leagueName, 0, 0, 0, 0, 0]],\n",
    "                                      columns=['UUID_G','Sport','League','GameID','TeamA','TeamB','Date','LookupID_G'])\n",
    "                    \n",
    "                pdTeams = pd.DataFrame([[0, teamName1, sportName, leagueName, 0], [0, teamName2, sportName, leagueName, 0]],\n",
    "                                      columns=['UUID_T','TeamName','Sport','League','LookupID_T'])             \n",
    "\n",
    "                todayOdds = todayOdds.append(pdOdds)                \n",
    "                todayGames = todatMatches.append(pdGames)\n",
    "                todayTeams = todayTeams.append(pdTeams)\n",
    "                i = i+1\n",
    "#print(todayTeams)"
   ]
  },
  {
   "cell_type": "code",
   "execution_count": 28,
   "metadata": {
    "scrolled": true
   },
   "outputs": [],
   "source": [
    "# define helper functions\n",
    "\n",
    "# return sport ID if it exists, otherwise create a new entry and return sportID\n",
    "def sportDBCheck (sportName, connection):\n",
    "    sportDF = pd.read_sql('SELECT * FROM \"BetSport\"', con=connection)\n",
    "    try: \n",
    "        SportID = sportDF[sportDF['SportName'] == sportName].iloc[0]['SportID']\n",
    "        print('found sport name')\n",
    "    except:\n",
    "        SportID =  uuid.uuid4() #str(uuid.uuid4()) \n",
    "        queryStart = 'INSERT INTO \"BetSport\" (\"SportID\",\"SportName\") VALUES '\n",
    "        queryEnd = [SportID,sportName]\n",
    "        query = queryStart + str(tuple(queryEnd))\n",
    "        \n",
    "        print('query = ' + query)\n",
    "        try:\n",
    "            cur.execute(query)\n",
    "        except Exception as e: \n",
    "            print(e)\n",
    "            #print(\"error committing sport sql code\")\n",
    "            pass\n",
    "        conn.commit()\n",
    "\n",
    "    return SportID\n",
    "        \n",
    "\n",
    "\n"
   ]
  },
  {
   "cell_type": "code",
   "execution_count": 18,
   "metadata": {
    "collapsed": true
   },
   "outputs": [],
   "source": [
    "cur.close()\n",
    "conn.close()"
   ]
  },
  {
   "cell_type": "code",
   "execution_count": null,
   "metadata": {
    "collapsed": true
   },
   "outputs": [],
   "source": []
  }
 ],
 "metadata": {
  "kernelspec": {
   "display_name": "Python 3",
   "language": "python",
   "name": "python3"
  },
  "language_info": {
   "codemirror_mode": {
    "name": "ipython",
    "version": 3
   },
   "file_extension": ".py",
   "mimetype": "text/x-python",
   "name": "python",
   "nbconvert_exporter": "python",
   "pygments_lexer": "ipython3",
   "version": "3.6.3"
  }
 },
 "nbformat": 4,
 "nbformat_minor": 2
}
