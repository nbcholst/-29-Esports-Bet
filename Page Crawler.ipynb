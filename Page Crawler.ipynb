{
 "cells": [
  {
   "cell_type": "code",
   "execution_count": 14,
   "metadata": {},
   "outputs": [],
   "source": [
    "import sys  \n",
    "from PyQt5.QtGui import *  \n",
    "from PyQt5.QtCore import *  \n",
    "from PyQt5.QtWebKit import *\n",
    "from PyQt5.QtWebKitWidgets import QWebPage\n",
    "from PyQt5.QtWidgets import QApplication\n",
    "from lxml import html "
   ]
  },
  {
   "cell_type": "code",
   "execution_count": 15,
   "metadata": {},
   "outputs": [],
   "source": [
    "class Render(QWebPage):  \n",
    "  def __init__(self, url):  \n",
    "    self.app = QApplication(sys.argv)  \n",
    "    QWebPage.__init__(self)  \n",
    "    self.loadFinished.connect(self._loadFinished)  \n",
    "    self.mainFrame().load(QUrl(url))  \n",
    "    self.app.exec_()  \n",
    "  \n",
    "  def _loadFinished(self, result):  \n",
    "    self.frame = self.mainFrame()  \n",
    "    self.app.quit()"
   ]
  },
  {
   "cell_type": "code",
   "execution_count": 16,
   "metadata": {},
   "outputs": [],
   "source": [
    "url = 'http://pycoders.com/archive/'  \n",
    "#This does the magic.Loads everything\n",
    "r = Render(url)  \n",
    "#result is a QString.\n",
    "result = r.frame.toHtml()"
   ]
  },
  {
   "cell_type": "code",
   "execution_count": 22,
   "metadata": {},
   "outputs": [
    {
     "name": "stdout",
     "output_type": "stream",
     "text": [
      "<Element html at 0x1615e441b38>\n"
     ]
    }
   ],
   "source": [
    "#QString should be converted to string before processed by lxml\n",
    "formatted_result = str(result)\n",
    "\n",
    "#Next build lxml tree from formatted_result\n",
    "tree = html.fromstring(formatted_result)\n",
    "\n",
    "#Now using correct Xpath we are fetching URL of archives\n",
    "# archive_links = tree.xpath('//div[@class=\"campaign\"]/a/@href')\n",
    "print (tree)"
   ]
  },
  {
   "cell_type": "code",
   "execution_count": null,
   "metadata": {
    "collapsed": true
   },
   "outputs": [],
   "source": []
  }
 ],
 "metadata": {
  "kernelspec": {
   "display_name": "Python 3",
   "language": "python",
   "name": "python3"
  },
  "language_info": {
   "codemirror_mode": {
    "name": "ipython",
    "version": 3
   },
   "file_extension": ".py",
   "mimetype": "text/x-python",
   "name": "python",
   "nbconvert_exporter": "python",
   "pygments_lexer": "ipython3",
   "version": "3.6.3"
  }
 },
 "nbformat": 4,
 "nbformat_minor": 2
}
