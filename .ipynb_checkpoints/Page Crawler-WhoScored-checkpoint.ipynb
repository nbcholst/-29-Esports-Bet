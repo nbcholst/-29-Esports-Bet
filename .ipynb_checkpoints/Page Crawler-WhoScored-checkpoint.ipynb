{
 "cells": [
  {
   "cell_type": "code",
   "execution_count": 14,
   "metadata": {
    "collapsed": true
   },
   "outputs": [],
   "source": [
    "import sys  \n",
    "from PyQt5.QtGui import *  \n",
    "from PyQt5.QtCore import *  \n",
    "from PyQt5.QtWebKit import *\n",
    "from PyQt5.QtWebKitWidgets import QWebPage\n",
    "from PyQt5.QtWidgets import QApplication\n",
    "from lxml import html "
   ]
  },
  {
   "cell_type": "code",
   "execution_count": 15,
   "metadata": {
    "collapsed": true
   },
   "outputs": [],
   "source": [
    "class Render(QWebPage):  \n",
    "  def __init__(self, url):  \n",
    "    self.app = QApplication(sys.argv)  \n",
    "    QWebPage.__init__(self)  \n",
    "    self.loadFinished.connect(self._loadFinished)  \n",
    "    self.mainFrame().load(QUrl(url))  \n",
    "    self.app.exec_()  \n",
    "  \n",
    "  def _loadFinished(self, result):  \n",
    "    self.frame = self.mainFrame()  \n",
    "    self.app.quit()"
   ]
  },
  {
   "cell_type": "code",
   "execution_count": 16,
   "metadata": {
    "collapsed": true
   },
   "outputs": [],
   "source": [
    "url = 'https://www.whoscored.com/Players/50835/Show/Neymar/'  \n",
    "#This does the magic.Loads everything\n",
    "r = Render(url)  \n",
    "#result is a QString.\n",
    "result = r.frame.toHtml()"
   ]
  },
  {
   "cell_type": "code",
   "execution_count": 20,
   "metadata": {},
   "outputs": [
    {
     "name": "stdout",
     "output_type": "stream",
     "text": [
      "['http://us4.campaign-archive.com/?u=9735795484d2e4c204da82a29&id=f203eb15cf', 'http://us4.campaign-archive.com/?u=9735795484d2e4c204da82a29&id=bb793fb200', 'http://us4.campaign-archive.com/?u=9735795484d2e4c204da82a29&id=99f7f43e06', 'http://us4.campaign-archive.com/?u=9735795484d2e4c204da82a29&id=7596c9d73a', 'http://us4.campaign-archive.com/?u=9735795484d2e4c204da82a29&id=85fc237433', 'http://us4.campaign-archive.com/?u=9735795484d2e4c204da82a29&id=4ad15dbd6a', 'http://us4.campaign-archive.com/?u=9735795484d2e4c204da82a29&id=62805321c8', 'http://us4.campaign-archive.com/?u=9735795484d2e4c204da82a29&id=e61e306040', 'http://us4.campaign-archive.com/?u=9735795484d2e4c204da82a29&id=90fd0654b1', 'http://us4.campaign-archive.com/?u=9735795484d2e4c204da82a29&id=f0ec67ef76', 'http://us4.campaign-archive.com/?u=9735795484d2e4c204da82a29&id=32fe872169', 'http://us4.campaign-archive.com/?u=9735795484d2e4c204da82a29&id=db760c54cb', 'http://us4.campaign-archive.com/?u=9735795484d2e4c204da82a29&id=07723115d0', 'http://us4.campaign-archive.com/?u=9735795484d2e4c204da82a29&id=ddee8d1479', 'http://us4.campaign-archive.com/?u=9735795484d2e4c204da82a29&id=3ca35b21b2', 'http://us4.campaign-archive.com/?u=9735795484d2e4c204da82a29&id=626db6c90c', 'http://us4.campaign-archive.com/?u=9735795484d2e4c204da82a29&id=83181648d6', 'http://us4.campaign-archive.com/?u=9735795484d2e4c204da82a29&id=4018ed7312', 'http://us4.campaign-archive.com/?u=9735795484d2e4c204da82a29&id=18f013f645', 'http://us4.campaign-archive.com/?u=9735795484d2e4c204da82a29&id=11db73cdfc', 'http://us4.campaign-archive.com/?u=9735795484d2e4c204da82a29&id=27ceaeebdd', 'http://us4.campaign-archive.com/?u=9735795484d2e4c204da82a29&id=6c20a9b8cb', 'http://us4.campaign-archive.com/?u=9735795484d2e4c204da82a29&id=be08ffe4c8', 'http://us4.campaign-archive.com/?u=9735795484d2e4c204da82a29&id=49dd6997f6', 'http://us4.campaign-archive.com/?u=9735795484d2e4c204da82a29&id=440bd94d00', 'http://us4.campaign-archive.com/?u=9735795484d2e4c204da82a29&id=c9db2f88c4', 'http://us4.campaign-archive.com/?u=9735795484d2e4c204da82a29&id=76363da651', 'http://us4.campaign-archive.com/?u=9735795484d2e4c204da82a29&id=0f792acd6e', 'http://us4.campaign-archive.com/?u=9735795484d2e4c204da82a29&id=510569d007', 'http://us4.campaign-archive.com/?u=9735795484d2e4c204da82a29&id=c2666fadd4', 'http://us4.campaign-archive.com/?u=9735795484d2e4c204da82a29&id=99e315fb56', 'http://us4.campaign-archive.com/?u=9735795484d2e4c204da82a29&id=f5a1734533', 'http://us4.campaign-archive.com/?u=9735795484d2e4c204da82a29&id=50b9d04e0e', 'http://us4.campaign-archive.com/?u=9735795484d2e4c204da82a29&id=e5108daa45', 'http://us4.campaign-archive.com/?u=9735795484d2e4c204da82a29&id=d6dd39de34', 'http://us4.campaign-archive.com/?u=9735795484d2e4c204da82a29&id=eece9d1d0d', 'http://us4.campaign-archive.com/?u=9735795484d2e4c204da82a29&id=c44ae87c68', 'http://us4.campaign-archive.com/?u=9735795484d2e4c204da82a29&id=29dedf8891', 'http://us4.campaign-archive.com/?u=9735795484d2e4c204da82a29&id=77cd767475', 'http://us4.campaign-archive.com/?u=9735795484d2e4c204da82a29&id=1b1e4a9ce3', 'http://us4.campaign-archive.com/?u=9735795484d2e4c204da82a29&id=aa8501a569', 'http://us4.campaign-archive.com/?u=9735795484d2e4c204da82a29&id=df39889f91', 'http://us4.campaign-archive.com/?u=9735795484d2e4c204da82a29&id=e46bd02e4f', 'http://us4.campaign-archive.com/?u=9735795484d2e4c204da82a29&id=1d4b263655', 'http://us4.campaign-archive.com/?u=9735795484d2e4c204da82a29&id=d789570139', 'http://us4.campaign-archive.com/?u=9735795484d2e4c204da82a29&id=140d71da1a', 'http://us4.campaign-archive.com/?u=9735795484d2e4c204da82a29&id=fb81122847', 'http://us4.campaign-archive.com/?u=9735795484d2e4c204da82a29&id=80859d91a4', 'http://us4.campaign-archive.com/?u=9735795484d2e4c204da82a29&id=b59d16a393', 'http://us4.campaign-archive.com/?u=9735795484d2e4c204da82a29&id=c97491e1a8', 'http://us4.campaign-archive.com/?u=9735795484d2e4c204da82a29&id=5d0dad4d24', 'http://us4.campaign-archive.com/?u=9735795484d2e4c204da82a29&id=fc056b44db', 'http://us4.campaign-archive.com/?u=9735795484d2e4c204da82a29&id=8867c46279', 'http://us4.campaign-archive.com/?u=9735795484d2e4c204da82a29&id=12530992af', 'http://us4.campaign-archive.com/?u=9735795484d2e4c204da82a29&id=3832782ac4', 'http://us4.campaign-archive.com/?u=9735795484d2e4c204da82a29&id=9d01609c22', 'http://us4.campaign-archive.com/?u=9735795484d2e4c204da82a29&id=3384ab2140', 'http://us4.campaign-archive.com/?u=9735795484d2e4c204da82a29&id=2b6ec675d3', 'http://us4.campaign-archive.com/?u=9735795484d2e4c204da82a29&id=14e265baf0', 'http://us4.campaign-archive.com/?u=9735795484d2e4c204da82a29&id=aaa70e6cd8', 'http://us4.campaign-archive.com/?u=9735795484d2e4c204da82a29&id=b2831f4813', 'http://us4.campaign-archive.com/?u=9735795484d2e4c204da82a29&id=b840145b68', 'http://us4.campaign-archive.com/?u=9735795484d2e4c204da82a29&id=53e077220d', 'http://us4.campaign-archive.com/?u=9735795484d2e4c204da82a29&id=29180abb3b', 'http://us4.campaign-archive.com/?u=9735795484d2e4c204da82a29&id=12da694704', 'http://us4.campaign-archive.com/?u=9735795484d2e4c204da82a29&id=42228c78eb', 'http://us4.campaign-archive.com/?u=9735795484d2e4c204da82a29&id=22fde1c28d', 'http://us4.campaign-archive.com/?u=9735795484d2e4c204da82a29&id=f88ad43551', 'http://us4.campaign-archive.com/?u=9735795484d2e4c204da82a29&id=247cb9ae65', 'http://us4.campaign-archive.com/?u=9735795484d2e4c204da82a29&id=06f1263282', 'http://us4.campaign-archive.com/?u=9735795484d2e4c204da82a29&id=26e56ce092', 'http://us4.campaign-archive.com/?u=9735795484d2e4c204da82a29&id=45df5eb193', 'http://us4.campaign-archive.com/?u=9735795484d2e4c204da82a29&id=e590684bd0', 'http://us4.campaign-archive.com/?u=9735795484d2e4c204da82a29&id=ff31369adf', 'http://us4.campaign-archive.com/?u=9735795484d2e4c204da82a29&id=f23921e094', 'http://us4.campaign-archive.com/?u=9735795484d2e4c204da82a29&id=d2ac036e97', 'http://us4.campaign-archive.com/?u=9735795484d2e4c204da82a29&id=fd953514fa', 'http://us4.campaign-archive.com/?u=9735795484d2e4c204da82a29&id=d1f2d645df', 'http://us4.campaign-archive.com/?u=9735795484d2e4c204da82a29&id=6e4a6bafcd', 'http://us4.campaign-archive.com/?u=9735795484d2e4c204da82a29&id=a07cf21a93', 'http://us4.campaign-archive.com/?u=9735795484d2e4c204da82a29&id=02385c8874', 'http://us4.campaign-archive.com/?u=9735795484d2e4c204da82a29&id=e1b6ee0db9', 'http://us4.campaign-archive.com/?u=9735795484d2e4c204da82a29&id=1099ac3094', 'http://us4.campaign-archive.com/?u=9735795484d2e4c204da82a29&id=d0ee2a6163', 'http://us4.campaign-archive.com/?u=9735795484d2e4c204da82a29&id=e109bc9dff', 'http://us4.campaign-archive.com/?u=9735795484d2e4c204da82a29&id=27f29bd18c', 'http://us4.campaign-archive.com/?u=9735795484d2e4c204da82a29&id=11857fb621', 'http://us4.campaign-archive.com/?u=9735795484d2e4c204da82a29&id=d06430eb4f', 'http://us4.campaign-archive.com/?u=9735795484d2e4c204da82a29&id=339bb6cb74', 'http://us4.campaign-archive.com/?u=9735795484d2e4c204da82a29&id=c6b2ebae4e', 'http://us4.campaign-archive.com/?u=9735795484d2e4c204da82a29&id=015aa433f9', 'http://us4.campaign-archive.com/?u=9735795484d2e4c204da82a29&id=a66fd06602', 'http://us4.campaign-archive.com/?u=9735795484d2e4c204da82a29&id=f070a2791c', 'http://us4.campaign-archive.com/?u=9735795484d2e4c204da82a29&id=dbc3fc6066', 'http://us4.campaign-archive.com/?u=9735795484d2e4c204da82a29&id=0de5a85498', 'http://us4.campaign-archive.com/?u=9735795484d2e4c204da82a29&id=a0c695a7f6', 'http://us4.campaign-archive.com/?u=9735795484d2e4c204da82a29&id=3269eb9cac', 'http://us4.campaign-archive.com/?u=9735795484d2e4c204da82a29&id=4bce55b0f6', 'http://us4.campaign-archive.com/?u=9735795484d2e4c204da82a29&id=ee6e1b1b45', 'http://us4.campaign-archive.com/?u=9735795484d2e4c204da82a29&id=e1b0ffb713', 'http://us4.campaign-archive.com/?u=9735795484d2e4c204da82a29&id=14ac0e8c11', 'http://us4.campaign-archive.com/?u=9735795484d2e4c204da82a29&id=b7fdecf11e', 'http://us4.campaign-archive.com/?u=9735795484d2e4c204da82a29&id=50a00cbf9b', 'http://us4.campaign-archive.com/?u=9735795484d2e4c204da82a29&id=8f8d4bc674', 'http://us4.campaign-archive.com/?u=9735795484d2e4c204da82a29&id=569ab9cab6', 'http://us4.campaign-archive.com/?u=9735795484d2e4c204da82a29&id=412ff5bb92', 'http://us4.campaign-archive.com/?u=9735795484d2e4c204da82a29&id=342d2cd3c5', 'http://us4.campaign-archive.com/?u=9735795484d2e4c204da82a29&id=cf56544e52', 'http://us4.campaign-archive.com/?u=9735795484d2e4c204da82a29&id=ba51070031', 'http://us4.campaign-archive.com/?u=9735795484d2e4c204da82a29&id=2776ce7284', 'http://us4.campaign-archive.com/?u=9735795484d2e4c204da82a29&id=7c693ce676', 'http://us4.campaign-archive.com/?u=9735795484d2e4c204da82a29&id=4ffbd2b813', 'http://us4.campaign-archive.com/?u=9735795484d2e4c204da82a29&id=13785051a9', 'http://us4.campaign-archive.com/?u=9735795484d2e4c204da82a29&id=686dc9891c', 'http://us4.campaign-archive.com/?u=9735795484d2e4c204da82a29&id=353147b5f3', 'http://us4.campaign-archive.com/?u=9735795484d2e4c204da82a29&id=68e052a6f7', 'http://us4.campaign-archive.com/?u=9735795484d2e4c204da82a29&id=f065557c20', 'http://us4.campaign-archive.com/?u=9735795484d2e4c204da82a29&id=55b91a6e1f', 'http://us4.campaign-archive.com/?u=9735795484d2e4c204da82a29&id=d973d8a93e', 'http://us4.campaign-archive.com/?u=9735795484d2e4c204da82a29&id=07a5f186be', 'http://us4.campaign-archive.com/?u=9735795484d2e4c204da82a29&id=7489f8ef97', 'http://us4.campaign-archive.com/?u=9735795484d2e4c204da82a29&id=7abd581d10', 'http://us4.campaign-archive.com/?u=9735795484d2e4c204da82a29&id=ab497700bb', 'http://us4.campaign-archive.com/?u=9735795484d2e4c204da82a29&id=277fbe35eb', 'http://us4.campaign-archive.com/?u=9735795484d2e4c204da82a29&id=a089b06ae4', 'http://us4.campaign-archive.com/?u=9735795484d2e4c204da82a29&id=13527cc3dd', 'http://us4.campaign-archive.com/?u=9735795484d2e4c204da82a29&id=e133864a0a', 'http://us4.campaign-archive.com/?u=9735795484d2e4c204da82a29&id=6196c9ed66', 'http://us4.campaign-archive.com/?u=9735795484d2e4c204da82a29&id=6bfdfe321c', 'http://us4.campaign-archive.com/?u=9735795484d2e4c204da82a29&id=7f7e420fd4', 'http://us4.campaign-archive.com/?u=9735795484d2e4c204da82a29&id=39ea43de4e', 'http://us4.campaign-archive.com/?u=9735795484d2e4c204da82a29&id=50d930f03d', 'http://us4.campaign-archive.com/?u=9735795484d2e4c204da82a29&id=b7763d4295', 'http://us4.campaign-archive.com/?u=9735795484d2e4c204da82a29&id=c22fb2520f', 'http://us4.campaign-archive.com/?u=9735795484d2e4c204da82a29&id=f9dc89f994', 'http://us4.campaign-archive.com/?u=9735795484d2e4c204da82a29&id=90fa4ff04a', 'http://us4.campaign-archive.com/?u=9735795484d2e4c204da82a29&id=339ce67508', 'http://us4.campaign-archive.com/?u=9735795484d2e4c204da82a29&id=ccef199858', 'http://us4.campaign-archive.com/?u=9735795484d2e4c204da82a29&id=79b5bd93f3', 'http://us4.campaign-archive.com/?u=9735795484d2e4c204da82a29&id=d64a421bc8', 'http://us4.campaign-archive.com/?u=9735795484d2e4c204da82a29&id=32ec9dffdb', 'http://us4.campaign-archive.com/?u=9735795484d2e4c204da82a29&id=672533d736', 'http://us4.campaign-archive.com/?u=9735795484d2e4c204da82a29&id=f87f23b335', 'http://us4.campaign-archive.com/?u=9735795484d2e4c204da82a29&id=5f3bbf9f0d', 'http://us4.campaign-archive.com/?u=9735795484d2e4c204da82a29&id=2aab93be25', 'http://us4.campaign-archive.com/?u=9735795484d2e4c204da82a29&id=6297b73609', 'http://us4.campaign-archive.com/?u=9735795484d2e4c204da82a29&id=cb904ae2f0', 'http://us4.campaign-archive.com/?u=9735795484d2e4c204da82a29&id=1be31a84b1', 'http://us4.campaign-archive.com/?u=9735795484d2e4c204da82a29&id=4d420c9088', 'http://us4.campaign-archive.com/?u=9735795484d2e4c204da82a29&id=5b776f71be', 'http://us4.campaign-archive.com/?u=9735795484d2e4c204da82a29&id=4edf1b15d9', 'http://us4.campaign-archive.com/?u=9735795484d2e4c204da82a29&id=df602b4d07', 'http://us4.campaign-archive.com/?u=9735795484d2e4c204da82a29&id=214eac5719', 'http://us4.campaign-archive.com/?u=9735795484d2e4c204da82a29&id=60bf5a649b', 'http://us4.campaign-archive.com/?u=9735795484d2e4c204da82a29&id=b83a2fd921', 'http://us4.campaign-archive.com/?u=9735795484d2e4c204da82a29&id=30f21464b5', 'http://us4.campaign-archive.com/?u=9735795484d2e4c204da82a29&id=11689eb138', 'http://us4.campaign-archive.com/?u=9735795484d2e4c204da82a29&id=a0bed7cb10', 'http://us4.campaign-archive.com/?u=9735795484d2e4c204da82a29&id=42967e4ff3', 'http://us4.campaign-archive.com/?u=9735795484d2e4c204da82a29&id=c8a760c5a0', 'http://us4.campaign-archive.com/?u=9735795484d2e4c204da82a29&id=0d0e04938e', 'http://us4.campaign-archive.com/?u=9735795484d2e4c204da82a29&id=2af7360abb', 'http://us4.campaign-archive.com/?u=9735795484d2e4c204da82a29&id=0da18b2a24', 'http://us4.campaign-archive.com/?u=9735795484d2e4c204da82a29&id=9de11cbf39', 'http://us4.campaign-archive.com/?u=9735795484d2e4c204da82a29&id=8454ad6dd2', 'http://us4.campaign-archive.com/?u=9735795484d2e4c204da82a29&id=995f292392', 'http://us4.campaign-archive.com/?u=9735795484d2e4c204da82a29&id=6ad49cd999', 'http://us4.campaign-archive.com/?u=9735795484d2e4c204da82a29&id=7891d94b10', 'http://us4.campaign-archive.com/?u=9735795484d2e4c204da82a29&id=70f94dc81c', 'http://us4.campaign-archive.com/?u=9735795484d2e4c204da82a29&id=384b699bca', 'http://us4.campaign-archive.com/?u=9735795484d2e4c204da82a29&id=5f11d89cd4', 'http://us4.campaign-archive.com/?u=9735795484d2e4c204da82a29&id=a791b52282', 'http://us4.campaign-archive.com/?u=9735795484d2e4c204da82a29&id=71f4dfdd78', 'http://us4.campaign-archive.com/?u=9735795484d2e4c204da82a29&id=c6f54ad59d', 'http://us4.campaign-archive.com/?u=9735795484d2e4c204da82a29&id=317f1fd4ce', 'http://us4.campaign-archive.com/?u=9735795484d2e4c204da82a29&id=720a9f6aa5', 'http://us4.campaign-archive.com/?u=9735795484d2e4c204da82a29&id=cb2392aec0', 'http://us4.campaign-archive.com/?u=9735795484d2e4c204da82a29&id=3881c37c77', 'http://us4.campaign-archive.com/?u=9735795484d2e4c204da82a29&id=c8c36205c4', 'http://us4.campaign-archive.com/?u=9735795484d2e4c204da82a29&id=593624c9fe', 'http://us4.campaign-archive.com/?u=9735795484d2e4c204da82a29&id=76d53042e2', 'http://us4.campaign-archive.com/?u=9735795484d2e4c204da82a29&id=b9ddf93d30', 'http://us4.campaign-archive.com/?u=9735795484d2e4c204da82a29&id=8b91cb0481', 'http://us4.campaign-archive.com/?u=9735795484d2e4c204da82a29&id=cef077c65e', 'http://us4.campaign-archive.com/?u=9735795484d2e4c204da82a29&id=d55ba2f5b3', 'http://us4.campaign-archive.com/?u=9735795484d2e4c204da82a29&id=d5836a1bff', 'http://us4.campaign-archive.com/?u=9735795484d2e4c204da82a29&id=e1346eade4', 'http://us4.campaign-archive.com/?u=9735795484d2e4c204da82a29&id=90fc42e3c1', 'http://us4.campaign-archive.com/?u=9735795484d2e4c204da82a29&id=8edfb01a64', 'http://us4.campaign-archive.com/?u=9735795484d2e4c204da82a29&id=05923c8e5d', 'http://us4.campaign-archive.com/?u=9735795484d2e4c204da82a29&id=3b3cde972e', 'http://us4.campaign-archive.com/?u=9735795484d2e4c204da82a29&id=47251bf186', 'http://us4.campaign-archive.com/?u=9735795484d2e4c204da82a29&id=f64bf8e005', 'http://us4.campaign-archive.com/?u=9735795484d2e4c204da82a29&id=959ffd3c61', 'http://us4.campaign-archive.com/?u=9735795484d2e4c204da82a29&id=6aca731079', 'http://us4.campaign-archive.com/?u=9735795484d2e4c204da82a29&id=4aeca730ca', 'http://us4.campaign-archive.com/?u=9735795484d2e4c204da82a29&id=8848206a1a', 'http://us4.campaign-archive.com/?u=9735795484d2e4c204da82a29&id=0eb10a283a', 'http://us4.campaign-archive.com/?u=9735795484d2e4c204da82a29&id=ba34a19b09', 'http://us4.campaign-archive.com/?u=9735795484d2e4c204da82a29&id=362dc7d43e']\n"
     ]
    }
   ],
   "source": [
    "#QString should be converted to string before processed by lxml\n",
    "formatted_result = str(result)\n",
    "\n",
    "#Next build lxml tree from formatted_result\n",
    "tree = html.fromstring(formatted_result)\n",
    "\n",
    "#Now using correct Xpath we are fetching URL of archives\n",
    "archive_links = tree.xpath('//div[@class=\"campaign\"]/a/@href')\n",
    "print (archive_links)"
   ]
  },
  {
   "cell_type": "code",
   "execution_count": null,
   "metadata": {
    "collapsed": true
   },
   "outputs": [],
   "source": []
  }
 ],
 "metadata": {
  "kernelspec": {
   "display_name": "Python 3",
   "language": "python",
   "name": "python3"
  },
  "language_info": {
   "codemirror_mode": {
    "name": "ipython",
    "version": 3
   },
   "file_extension": ".py",
   "mimetype": "text/x-python",
   "name": "python",
   "nbconvert_exporter": "python",
   "pygments_lexer": "ipython3",
   "version": "3.6.3"
  }
 },
 "nbformat": 4,
 "nbformat_minor": 2
}
