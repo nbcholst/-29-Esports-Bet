{
 "cells": [
  {
   "cell_type": "code",
   "execution_count": 9,
   "metadata": {
    "collapsed": true
   },
   "outputs": [],
   "source": [
    "from bs4 import BeautifulSoup\n",
    "from time import sleep\n",
    "import pandas as pd\n",
    "import numpy as np\n",
    "import psycopg2"
   ]
  },
  {
   "cell_type": "code",
   "execution_count": 10,
   "metadata": {},
   "outputs": [
    {
     "name": "stdout",
     "output_type": "stream",
     "text": [
      "  MatchID Date TeamID Team Moneyline HDP Map1 Map2 Map3\n",
      "0       1    0      0    1         1   0    0    0    0\n",
      "1       1    0      0    1         1   0    0    0    0\n"
     ]
    }
   ],
   "source": [
    "todayScores = pd.DataFrame(columns=['MatchID','Date','TeamID','Team','Moneyline','HDP','Map1','Map2','Map3'])\n",
    "pdGame = pd.DataFrame([[1, 0, 0, 1, 1, 0, 0, 0, 0],\n",
    "                               [1, 0, 0, 1, 1, 0, 0, 0, 0]],\n",
    "                              columns=['MatchID','Date','TeamID','Team','Moneyline','HDP','Map1','Map2','Map3'])\n",
    "todayScores = todayScores.append(pdGame)\n",
    "print(todayScores)"
   ]
  },
  {
   "cell_type": "code",
   "execution_count": 43,
   "metadata": {
    "collapsed": true
   },
   "outputs": [],
   "source": [
    "# connect to postgresql\n",
    "conn = psycopg2.connect(dbname=\"BetOnline\", user=\"Admin\", password=\"1407ath\", host = 'localhost')\n",
    "cur = conn.cursor()"
   ]
  },
  {
   "cell_type": "code",
   "execution_count": 48,
   "metadata": {
    "collapsed": true
   },
   "outputs": [],
   "source": [
    "# view table\n",
    "cur.execute('SELECT * FROM \"MatchData\"')\n",
    "row = cur.fetchone()\n",
    "while row is not None:\n",
    "            print(row)\n",
    "            row = cur.fetchone()"
   ]
  },
  {
   "cell_type": "code",
   "execution_count": 1,
   "metadata": {},
   "outputs": [
    {
     "ename": "NameError",
     "evalue": "name 'pdGame' is not defined",
     "output_type": "error",
     "traceback": [
      "\u001b[1;31m---------------------------------------------------------------------------\u001b[0m",
      "\u001b[1;31mNameError\u001b[0m                                 Traceback (most recent call last)",
      "\u001b[1;32m<ipython-input-1-7e69d8f4a919>\u001b[0m in \u001b[0;36m<module>\u001b[1;34m()\u001b[0m\n\u001b[0;32m      3\u001b[0m \u001b[0mquery\u001b[0m \u001b[1;33m=\u001b[0m \u001b[1;34m'INSERT INTO \"MatchData\" (\"MatchID\",\"Date\",\"TeamID\",\"Team\",\"Moneyline\",\"HDP\",\"Map1\",\"Map2\",\"Map3\") VALUES '\u001b[0m\u001b[1;33m\u001b[0m\u001b[0m\n\u001b[0;32m      4\u001b[0m \u001b[1;33m\u001b[0m\u001b[0m\n\u001b[1;32m----> 5\u001b[1;33m \u001b[0mentry\u001b[0m \u001b[1;33m=\u001b[0m \u001b[0mpdGame\u001b[0m\u001b[1;33m.\u001b[0m\u001b[0mhead\u001b[0m\u001b[1;33m(\u001b[0m\u001b[1;36m1\u001b[0m\u001b[1;33m)\u001b[0m\u001b[1;33m.\u001b[0m\u001b[0mvalues\u001b[0m\u001b[1;33m.\u001b[0m\u001b[0mtolist\u001b[0m\u001b[1;33m(\u001b[0m\u001b[1;33m)\u001b[0m\u001b[1;33m[\u001b[0m\u001b[1;36m0\u001b[0m\u001b[1;33m]\u001b[0m\u001b[1;33m\u001b[0m\u001b[0m\n\u001b[0m\u001b[0;32m      6\u001b[0m \u001b[0mprint\u001b[0m\u001b[1;33m(\u001b[0m\u001b[0mtuple\u001b[0m\u001b[1;33m(\u001b[0m\u001b[0mentry\u001b[0m\u001b[1;33m)\u001b[0m\u001b[1;33m)\u001b[0m\u001b[1;33m\u001b[0m\u001b[0m\n\u001b[0;32m      7\u001b[0m \u001b[1;33m\u001b[0m\u001b[0m\n",
      "\u001b[1;31mNameError\u001b[0m: name 'pdGame' is not defined"
     ]
    }
   ],
   "source": [
    "# add into table\n",
    "# create sql query\n",
    "query = 'INSERT INTO \"MatchData\" (\"MatchID\",\"Date\",\"TeamID\",\"Team\",\"Moneyline\",\"HDP\",\"Map1\",\"Map2\",\"Map3\") VALUES '\n",
    "\n",
    "entry = pdGame.head(1).values.tolist()[0]\n",
    "print(tuple(entry))\n",
    "\n",
    "print(query + str(tuple(entry)))\n",
    "\n",
    "query2 = query + str(tuple(entry))\n",
    "cur.execute(query2)\n",
    "conn.commit()\n",
    "\n"
   ]
  },
  {
   "cell_type": "code",
   "execution_count": 2,
   "metadata": {},
   "outputs": [
    {
     "ename": "NameError",
     "evalue": "name 'cur' is not defined",
     "output_type": "error",
     "traceback": [
      "\u001b[1;31m---------------------------------------------------------------------------\u001b[0m",
      "\u001b[1;31mNameError\u001b[0m                                 Traceback (most recent call last)",
      "\u001b[1;32m<ipython-input-2-29fe6c91dca6>\u001b[0m in \u001b[0;36m<module>\u001b[1;34m()\u001b[0m\n\u001b[1;32m----> 1\u001b[1;33m \u001b[0mcur\u001b[0m\u001b[1;33m.\u001b[0m\u001b[0mclose\u001b[0m\u001b[1;33m(\u001b[0m\u001b[1;33m)\u001b[0m\u001b[1;33m\u001b[0m\u001b[0m\n\u001b[0m\u001b[0;32m      2\u001b[0m \u001b[0mconn\u001b[0m\u001b[1;33m.\u001b[0m\u001b[0mclose\u001b[0m\u001b[1;33m(\u001b[0m\u001b[1;33m)\u001b[0m\u001b[1;33m\u001b[0m\u001b[0m\n",
      "\u001b[1;31mNameError\u001b[0m: name 'cur' is not defined"
     ]
    }
   ],
   "source": [
    "# view table\n",
    "cur.execute('SELECT * FROM \"MatchData\"')\n",
    "row = cur.fetchone()\n",
    "while row is not None:\n",
    "            print(row)\n",
    "            row = cur.fetchone()\n"
   ]
  },
  {
   "cell_type": "code",
   "execution_count": null,
   "metadata": {
    "collapsed": true
   },
   "outputs": [],
   "source": [
    "cur.close()\n",
    "conn.close()"
   ]
  }
 ],
 "metadata": {
  "kernelspec": {
   "display_name": "Python 3",
   "language": "python",
   "name": "python3"
  },
  "language_info": {
   "codemirror_mode": {
    "name": "ipython",
    "version": 3
   },
   "file_extension": ".py",
   "mimetype": "text/x-python",
   "name": "python",
   "nbconvert_exporter": "python",
   "pygments_lexer": "ipython3",
   "version": "3.6.3"
  }
 },
 "nbformat": 4,
 "nbformat_minor": 2
}
