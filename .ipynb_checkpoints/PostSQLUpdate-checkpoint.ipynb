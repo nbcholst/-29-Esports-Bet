{
 "cells": [
  {
   "cell_type": "code",
   "execution_count": 9,
   "metadata": {},
   "outputs": [],
   "source": [
    "from bs4 import BeautifulSoup\n",
    "from time import sleep\n",
    "import pandas as pd\n",
    "import numpy as np\n",
    "import psycopg2"
   ]
  },
  {
   "cell_type": "code",
   "execution_count": 10,
   "metadata": {},
   "outputs": [
    {
     "name": "stdout",
     "output_type": "stream",
     "text": [
      "  MatchID Date TeamID Team Moneyline HDP Map1 Map2 Map3\n",
      "0       1    0      0    1         1   0    0    0    0\n",
      "1       1    0      0    1         1   0    0    0    0\n"
     ]
    }
   ],
   "source": [
    "todayScores = pd.DataFrame(columns=['MatchID','Date','TeamID','Team','Moneyline','HDP','Map1','Map2','Map3'])\n",
    "pdGame = pd.DataFrame([[1, 0, 0, 1, 1, 0, 0, 0, 0],\n",
    "                               [1, 0, 0, 1, 1, 0, 0, 0, 0]],\n",
    "                              columns=['MatchID','Date','TeamID','Team','Moneyline','HDP','Map1','Map2','Map3'])\n",
    "todayScores = todayScores.append(pdGame)\n",
    "print(todayScores)"
   ]
  },
  {
   "cell_type": "code",
   "execution_count": 43,
   "metadata": {},
   "outputs": [],
   "source": [
    "# connect to postgresql\n",
    "conn = psycopg2.connect(dbname=\"BetOnline\", user=\"Admin\", password=\"1407ath\", host = 'localhost')\n",
    "cur = conn.cursor()"
   ]
  },
  {
   "cell_type": "code",
   "execution_count": 48,
   "metadata": {},
   "outputs": [],
   "source": [
    "# view table\n",
    "cur.execute('SELECT * FROM \"MatchData\"')\n",
    "row = cur.fetchone()\n",
    "while row is not None:\n",
    "            print(row)\n",
    "            row = cur.fetchone()"
   ]
  },
  {
   "cell_type": "code",
   "execution_count": null,
   "metadata": {
    "collapsed": true
   },
   "outputs": [],
   "source": [
    "# add into table\n",
    "cur.execute('INSERT INTO \"MatchData\" MatchID,Date,TeamID,Team,Moneyline,HDP,Map1,Map2,Map3 \\n\n",
    "            VALUES'+pdGame[0])\n",
    "row = cur.fetchone()\n",
    "while row is not None:\n",
    "            print(row)\n",
    "            row = cur.fetchone()"
   ]
  },
  {
   "cell_type": "code",
   "execution_count": null,
   "metadata": {
    "collapsed": true
   },
   "outputs": [],
   "source": []
  }
 ],
 "metadata": {
  "kernelspec": {
   "display_name": "Python 3",
   "language": "python",
   "name": "python3"
  },
  "language_info": {
   "codemirror_mode": {
    "name": "ipython",
    "version": 3
   },
   "file_extension": ".py",
   "mimetype": "text/x-python",
   "name": "python",
   "nbconvert_exporter": "python",
   "pygments_lexer": "ipython3",
   "version": "3.6.3"
  }
 },
 "nbformat": 4,
 "nbformat_minor": 2
}
