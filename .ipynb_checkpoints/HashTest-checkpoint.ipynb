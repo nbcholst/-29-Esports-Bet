{
 "cells": [
  {
   "cell_type": "code",
   "execution_count": 29,
   "metadata": {},
   "outputs": [],
   "source": [
    "import pandas as pd\n",
    "import numpy as np\n",
    "import uuid "
   ]
  },
  {
   "cell_type": "code",
   "execution_count": 17,
   "metadata": {},
   "outputs": [
    {
     "name": "stdout",
     "output_type": "stream",
     "text": [
      "  MatchID Date TeamID Team Moneyline HDP Map1 Map2 Map3\n",
      "0     yes    4      1    1         1   0    0    0    0\n",
      "1      ok    2      0    1         1   0    0    0    0\n"
     ]
    }
   ],
   "source": [
    "todayScores = pd.DataFrame(columns=['MatchID','Date','TeamID','Team','Moneyline','HDP','Map1','Map2','Map3'])\n",
    "pdGame = pd.DataFrame([[ \"yes\", 4, 1,1, 1, 0, 0, 0, 0],\n",
    "                               [\"ok\", 2, 0, 1, 1, 0, 0, 0, 0]],\n",
    "                              columns=['MatchID','Date','TeamID','Team','Moneyline','HDP','Map1','Map2','Map3'])\n",
    "df = todayScores.append(pdGame)\n",
    "print(df)"
   ]
  },
  {
   "cell_type": "code",
   "execution_count": 31,
   "metadata": {},
   "outputs": [
    {
     "name": "stdout",
     "output_type": "stream",
     "text": [
      "4\n",
      "32db4bc3-f1a5-4426-8d20-2ffa2bc60177\n"
     ]
    }
   ],
   "source": [
    "test = df[df['MatchID'] == \"yes\"].iloc[0]['Date']\n",
    "print(test)\n",
    "print(uuid.uuid4())"
   ]
  },
  {
   "cell_type": "code",
   "execution_count": null,
   "metadata": {
    "collapsed": true
   },
   "outputs": [],
   "source": []
  }
 ],
 "metadata": {
  "kernelspec": {
   "display_name": "Python 3",
   "language": "python",
   "name": "python3"
  },
  "language_info": {
   "codemirror_mode": {
    "name": "ipython",
    "version": 3
   },
   "file_extension": ".py",
   "mimetype": "text/x-python",
   "name": "python",
   "nbconvert_exporter": "python",
   "pygments_lexer": "ipython3",
   "version": "3.6.3"
  }
 },
 "nbformat": 4,
 "nbformat_minor": 2
}
